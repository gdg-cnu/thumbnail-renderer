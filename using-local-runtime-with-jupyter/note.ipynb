{
 "cells": [
  {
   "cell_type": "markdown",
   "metadata": {},
   "source": [
    "# 로컬 런타임을 이용해 렌더링\n",
    "로컬 런타임을 이용해 Typst 파일을 렌더링할 수 있습니다.  \n",
    "\n",
    "또, Typst 파일은 텍스트로 작성되므로 다양한 수단을 동원하여 여러 방면으로 활용할 수 있습니다."
   ]
  },
  {
   "cell_type": "markdown",
   "metadata": {},
   "source": [
    "## 1. 환경 구성하기"
   ]
  },
  {
   "cell_type": "markdown",
   "metadata": {},
   "source": [
    "### 1.1. Typst 런타임 설치"
   ]
  },
  {
   "cell_type": "markdown",
   "metadata": {},
   "source": [
    "Windows"
   ]
  },
  {
   "cell_type": "code",
   "execution_count": null,
   "metadata": {},
   "outputs": [],
   "source": [
    "!winget install --id Typst.typst"
   ]
  },
  {
   "cell_type": "markdown",
   "metadata": {},
   "source": [
    "macOS"
   ]
  },
  {
   "cell_type": "code",
   "execution_count": null,
   "metadata": {},
   "outputs": [],
   "source": [
    "!brew install typst"
   ]
  },
  {
   "cell_type": "markdown",
   "metadata": {},
   "source": [
    "Linux\n",
    "\n",
    "리눅스 배포판과 패키지 매니저에 따라 패키지명과 설치 방법이 상이합니다. [Repology](https://repology.org/project/typst/versions)를 참조하세요.  \n",
    "\n",
    "Ubuntu의 경우 Snap을 이용하여 간단하게 설치할 수 있습니다."
   ]
  },
  {
   "cell_type": "code",
   "execution_count": null,
   "metadata": {},
   "outputs": [],
   "source": [
    "!sudo snap install typst"
   ]
  },
  {
   "cell_type": "markdown",
   "metadata": {},
   "source": [
    "### 1.2. `gdg-cnu/slide-typst` 클론하기\n",
    "\n",
    "사전에 준비된 [`gdg-cnu/slide-typst`](https://github.com/gdg-cnu/slide-typst) 라이브러리를 클론하거나 링크에서 다운로드받아 이 경로에 위치시킵니다.  "
   ]
  },
  {
   "cell_type": "markdown",
   "metadata": {},
   "source": [
    "`gdg-cnu/slide-typst`는 비공개 리포지토리이므로, 클론 명령을 사용하고자 한다면 인증 과정을 거쳐야합니다.\n",
    "\n",
    "최신 버전의 Git이 설치된 환경이라면, 깃허브 로그인 없이 `gdg-cnu/slide-typst` 클론을 시도할 때 깃허브 로그인 창이 나타납니다.\n",
    "\n",
    "그렇지 않을 경우 아래의 방법으로 직접 인증할 수 있습니다.\n",
    "\n",
    "1. 방법 1: 개인용 액세스 토큰(PAT)을 발급받는 방법\n",
    "    1. [깃허브 설정의 토큰 항목으로 이동합니다.](https://github.com/settings/tokens)\n",
    "    2. 새 토큰을 발급받습니다.\n",
    "    3. `https://<pat>@github.com/gdg-cnu/slide-typst.git` 주소로 클론합니다.  \n",
    "        ```sh\n",
    "        git clone https://<pat>@github.com/gdg-cnu/slide-typst.git\n",
    "        ```\n",
    "    - [더 알아보기](https://docs.github.com/ko/authentication/keeping-your-account-and-data-secure/managing-your-personal-access-tokens)\n",
    "2. 방법 2: SSH 키를 등록하는 방법\n",
    "    - [더 알아보기](https://docs.github.com/ko/authentication/keeping-your-account-and-data-secure/reviewing-your-ssh-keys)\n",
    "3. 방법 3: [GitHub CLI](https://cli.github.com/)를 사용하는 방법\n",
    "    1. GitHub CLI를 설치합니다.\n",
    "    2. `gh auth login`으로 로그인을 진행합니다.\n",
    "    3. `https://github.com/gdg-cnu/slide-typst.git` 주소로 클론합니다.  \n",
    "        ```sh\n",
    "        git clone https://github.com/gdg-cnu/slide-typst.git\n",
    "        ```"
   ]
  },
  {
   "cell_type": "markdown",
   "metadata": {},
   "source": [
    "이 때, 이 경로(`/using-local-runtime-with-jupyter`)에는 `lib` 폴더만 위치시키면 됩니다.  \n",
    "\n",
    "따라서 &lt;방법 3&gt;에 따라 윈도우 PowerShell 환경에서 다음과 같이 수행할 수 있습니다:"
   ]
  },
  {
   "cell_type": "code",
   "execution_count": null,
   "metadata": {},
   "outputs": [],
   "source": [
    "!gh auth login\n",
    "!git clone https://github.com/gdg-cnu/slide-typst.git\n",
    "!move slide-typst/lib ./"
   ]
  },
  {
   "cell_type": "markdown",
   "metadata": {},
   "source": [
    "## 2. 타입스트 코드 믹스인\n",
    "\n",
    "```typst\n",
    "__PLACEHOLDER_TITLE_DATA__\n",
    "```\n",
    "\n",
    "[`main.typ`](./main.typ)에 치환자를 작성한 후, 파일 외부에서 이 치환자를 이용해 타이틀 코드를 삽입합니다."
   ]
  },
  {
   "cell_type": "markdown",
   "metadata": {},
   "source": [
    "`./main.typ`\n",
    "\n",
    "```typst\n",
    "#import \"/lib/theme.typ\"\n",
    "#show: theme.theme.with()\n",
    "\n",
    "#let ai-data = theme.slide.theme-color.green\n",
    "#let dev = theme.slide.theme-color.blue\n",
    "#let devrel = theme.slide.theme-color.red\n",
    "#let game = theme.slide.theme-color.yellow\n",
    "\n",
    "__PLACEHOLDER_TITLE_DATA__\n",
    "```"
   ]
  },
  {
   "cell_type": "code",
   "execution_count": 3,
   "metadata": {},
   "outputs": [],
   "source": [
    "from enum import Enum\n",
    "class Theme(Enum):\n",
    "    AI_DATA = 'green'\n",
    "    DEV = 'blue'\n",
    "    DEVREL = 'red'\n",
    "    GAME = 'yellow'\n",
    "\n",
    "class Thumbnail:\n",
    "    def __init__(self, title: str, author: str, author_meta: str, author_image_path: str, theme: Theme):\n",
    "        self.title = title\n",
    "        self.author = author\n",
    "        self.author_meta = author_meta\n",
    "        self.author_image_path = author_image_path\n",
    "        self.theme = theme\n",
    "\n",
    "    @staticmethod\n",
    "    def _render_content_linebreak(content: str) -> str:\n",
    "        return content.replace('\\n', '\\\\\\n')\n",
    "\n",
    "    def to_typst(self) -> str:\n",
    "        '''\n",
    "        Render as Typst Library API\n",
    "        '''\n",
    "        return '#theme.slide.title(\\n' + \\\n",
    "                f'title: [{Thumbnail._render_content_linebreak(self.title)}],\\n' + \\\n",
    "                f'author: \"{self.author}\",\\n' + \\\n",
    "                f'author-meta: \"{self.author_meta}\",\\n' + \\\n",
    "                f'author-image-path: \"{self.author_image_path}\",\\n' + \\\n",
    "                f'theme: \"{self.theme.value}\"' + \\\n",
    "                ')'"
   ]
  },
  {
   "cell_type": "code",
   "execution_count": 4,
   "metadata": {},
   "outputs": [],
   "source": [
    "thumbnails: list[Thumbnail] = [\n",
    "    Thumbnail(\n",
    "        '\\n불량 메타버스 인디게임은\\n게임 엔진의 꿈을 꾸는가',\n",
    "        'Jonghyeon Park',\n",
    "        'Chonnam National University',\n",
    "        '/assets/profile01.jpg',\n",
    "        Theme.GAME\n",
    "    ),\n",
    "    \n",
    "]"
   ]
  },
  {
   "cell_type": "code",
   "execution_count": 5,
   "metadata": {},
   "outputs": [],
   "source": [
    "rendered = '\\n'.join(map(lambda each: each.to_typst(), thumbnails))"
   ]
  },
  {
   "cell_type": "code",
   "execution_count": 6,
   "metadata": {},
   "outputs": [],
   "source": [
    "file = './main.typ'\n",
    "placeholder = '__PLACEHOLDER_TITLE_DATA__'\n",
    "\n",
    "typst = open(file, encoding='utf-8').read().replace(placeholder, rendered)\n",
    "with open(file, 'w', encoding='utf-8') as f:\n",
    "    f.write(typst)"
   ]
  }
 ],
 "metadata": {
  "kernelspec": {
   "display_name": "Python 3",
   "language": "python",
   "name": "python3"
  },
  "language_info": {
   "codemirror_mode": {
    "name": "ipython",
    "version": 3
   },
   "file_extension": ".py",
   "mimetype": "text/x-python",
   "name": "python",
   "nbconvert_exporter": "python",
   "pygments_lexer": "ipython3",
   "version": "3.12.1"
  }
 },
 "nbformat": 4,
 "nbformat_minor": 2
}
